{
 "cells": [
  {
   "cell_type": "markdown",
   "id": "141baa8e",
   "metadata": {},
   "source": [
    "# NLP - CA2\n",
    "## Spam Classifier\n",
    "### Parnian Fazel - 810198516"
   ]
  },
  {
   "cell_type": "code",
   "execution_count": 1,
   "id": "093488bc",
   "metadata": {},
   "outputs": [],
   "source": [
    "import pandas as pd\n",
    "import numpy as np\n",
    "from sklearn.feature_extraction.text import CountVectorizer\n",
    "from nltk.corpus import stopwords as nltk_stopwords\n",
    "from nltk.stem import WordNetLemmatizer\n",
    "from sklearn.naive_bayes import MultinomialNB\n",
    "from sklearn.model_selection import train_test_split\n",
    "from sklearn.metrics import accuracy_score\n",
    "from sklearn.metrics import classification_report\n",
    "import matplotlib.pyplot as plt\n",
    "from sklearn.metrics import confusion_matrix\n",
    "from sklearn.metrics import accuracy_score, recall_score, precision_score, f1_score\n",
    "from sklearn import preprocessing\n",
    "import seaborn as sns\n",
    "import nltk"
   ]
  },
  {
   "cell_type": "code",
   "execution_count": 2,
   "id": "0df1c11c",
   "metadata": {},
   "outputs": [
    {
     "name": "stderr",
     "output_type": "stream",
     "text": [
      "[nltk_data] Downloading package punkt to\n",
      "[nltk_data]     C:\\Users\\Parnian\\AppData\\Roaming\\nltk_data...\n",
      "[nltk_data]   Package punkt is already up-to-date!\n",
      "[nltk_data] Downloading package stopwords to\n",
      "[nltk_data]     C:\\Users\\Parnian\\AppData\\Roaming\\nltk_data...\n",
      "[nltk_data]   Package stopwords is already up-to-date!\n",
      "[nltk_data] Downloading package wordnet to\n",
      "[nltk_data]     C:\\Users\\Parnian\\AppData\\Roaming\\nltk_data...\n",
      "[nltk_data]   Package wordnet is already up-to-date!\n",
      "[nltk_data] Downloading package omw-1.4 to\n",
      "[nltk_data]     C:\\Users\\Parnian\\AppData\\Roaming\\nltk_data...\n",
      "[nltk_data]   Package omw-1.4 is already up-to-date!\n"
     ]
    },
    {
     "data": {
      "text/plain": [
       "True"
      ]
     },
     "execution_count": 2,
     "metadata": {},
     "output_type": "execute_result"
    }
   ],
   "source": [
    "nltk.download('punkt')\n",
    "nltk.download('stopwords')\n",
    "nltk.download('wordnet')\n",
    "nltk.download('omw-1.4')"
   ]
  },
  {
   "cell_type": "code",
   "execution_count": 3,
   "id": "b72ec15a",
   "metadata": {},
   "outputs": [
    {
     "data": {
      "text/html": [
       "<div>\n",
       "<style scoped>\n",
       "    .dataframe tbody tr th:only-of-type {\n",
       "        vertical-align: middle;\n",
       "    }\n",
       "\n",
       "    .dataframe tbody tr th {\n",
       "        vertical-align: top;\n",
       "    }\n",
       "\n",
       "    .dataframe thead th {\n",
       "        text-align: right;\n",
       "    }\n",
       "</style>\n",
       "<table border=\"1\" class=\"dataframe\">\n",
       "  <thead>\n",
       "    <tr style=\"text-align: right;\">\n",
       "      <th></th>\n",
       "      <th>v1</th>\n",
       "      <th>v2</th>\n",
       "      <th>Unnamed: 2</th>\n",
       "      <th>Unnamed: 3</th>\n",
       "      <th>Unnamed: 4</th>\n",
       "    </tr>\n",
       "  </thead>\n",
       "  <tbody>\n",
       "    <tr>\n",
       "      <th>0</th>\n",
       "      <td>ham</td>\n",
       "      <td>Go until jurong point, crazy.. Available only ...</td>\n",
       "      <td>NaN</td>\n",
       "      <td>NaN</td>\n",
       "      <td>NaN</td>\n",
       "    </tr>\n",
       "    <tr>\n",
       "      <th>1</th>\n",
       "      <td>ham</td>\n",
       "      <td>Ok lar... Joking wif u oni...</td>\n",
       "      <td>NaN</td>\n",
       "      <td>NaN</td>\n",
       "      <td>NaN</td>\n",
       "    </tr>\n",
       "    <tr>\n",
       "      <th>2</th>\n",
       "      <td>spam</td>\n",
       "      <td>Free entry in 2 a wkly comp to win FA Cup fina...</td>\n",
       "      <td>NaN</td>\n",
       "      <td>NaN</td>\n",
       "      <td>NaN</td>\n",
       "    </tr>\n",
       "    <tr>\n",
       "      <th>3</th>\n",
       "      <td>ham</td>\n",
       "      <td>U dun say so early hor... U c already then say...</td>\n",
       "      <td>NaN</td>\n",
       "      <td>NaN</td>\n",
       "      <td>NaN</td>\n",
       "    </tr>\n",
       "    <tr>\n",
       "      <th>4</th>\n",
       "      <td>ham</td>\n",
       "      <td>Nah I don't think he goes to usf, he lives aro...</td>\n",
       "      <td>NaN</td>\n",
       "      <td>NaN</td>\n",
       "      <td>NaN</td>\n",
       "    </tr>\n",
       "  </tbody>\n",
       "</table>\n",
       "</div>"
      ],
      "text/plain": [
       "     v1                                                 v2 Unnamed: 2  \\\n",
       "0   ham  Go until jurong point, crazy.. Available only ...        NaN   \n",
       "1   ham                      Ok lar... Joking wif u oni...        NaN   \n",
       "2  spam  Free entry in 2 a wkly comp to win FA Cup fina...        NaN   \n",
       "3   ham  U dun say so early hor... U c already then say...        NaN   \n",
       "4   ham  Nah I don't think he goes to usf, he lives aro...        NaN   \n",
       "\n",
       "  Unnamed: 3 Unnamed: 4  \n",
       "0        NaN        NaN  \n",
       "1        NaN        NaN  \n",
       "2        NaN        NaN  \n",
       "3        NaN        NaN  \n",
       "4        NaN        NaN  "
      ]
     },
     "execution_count": 3,
     "metadata": {},
     "output_type": "execute_result"
    }
   ],
   "source": [
    "df = pd.read_csv(\"spam.csv\", encoding = \"latin-1\")\n",
    "df.head()"
   ]
  },
  {
   "cell_type": "code",
   "execution_count": 4,
   "id": "f3c92a0e",
   "metadata": {},
   "outputs": [
    {
     "data": {
      "text/plain": [
       "(5572, 5)"
      ]
     },
     "execution_count": 4,
     "metadata": {},
     "output_type": "execute_result"
    }
   ],
   "source": [
    "df.shape"
   ]
  },
  {
   "cell_type": "markdown",
   "id": "61263f94",
   "metadata": {},
   "source": [
    "#### Dropping 3 unusefuls columns : Unnamed: 2, Unnamed: 3, Unnamed: 4 & Renaming columns"
   ]
  },
  {
   "cell_type": "code",
   "execution_count": 5,
   "id": "a7c1ac70",
   "metadata": {},
   "outputs": [
    {
     "data": {
      "text/html": [
       "<div>\n",
       "<style scoped>\n",
       "    .dataframe tbody tr th:only-of-type {\n",
       "        vertical-align: middle;\n",
       "    }\n",
       "\n",
       "    .dataframe tbody tr th {\n",
       "        vertical-align: top;\n",
       "    }\n",
       "\n",
       "    .dataframe thead th {\n",
       "        text-align: right;\n",
       "    }\n",
       "</style>\n",
       "<table border=\"1\" class=\"dataframe\">\n",
       "  <thead>\n",
       "    <tr style=\"text-align: right;\">\n",
       "      <th></th>\n",
       "      <th>category</th>\n",
       "      <th>sms</th>\n",
       "    </tr>\n",
       "  </thead>\n",
       "  <tbody>\n",
       "    <tr>\n",
       "      <th>0</th>\n",
       "      <td>ham</td>\n",
       "      <td>Go until jurong point, crazy.. Available only ...</td>\n",
       "    </tr>\n",
       "    <tr>\n",
       "      <th>1</th>\n",
       "      <td>ham</td>\n",
       "      <td>Ok lar... Joking wif u oni...</td>\n",
       "    </tr>\n",
       "    <tr>\n",
       "      <th>2</th>\n",
       "      <td>spam</td>\n",
       "      <td>Free entry in 2 a wkly comp to win FA Cup fina...</td>\n",
       "    </tr>\n",
       "    <tr>\n",
       "      <th>3</th>\n",
       "      <td>ham</td>\n",
       "      <td>U dun say so early hor... U c already then say...</td>\n",
       "    </tr>\n",
       "    <tr>\n",
       "      <th>4</th>\n",
       "      <td>ham</td>\n",
       "      <td>Nah I don't think he goes to usf, he lives aro...</td>\n",
       "    </tr>\n",
       "    <tr>\n",
       "      <th>5</th>\n",
       "      <td>spam</td>\n",
       "      <td>FreeMsg Hey there darling it's been 3 week's n...</td>\n",
       "    </tr>\n",
       "    <tr>\n",
       "      <th>6</th>\n",
       "      <td>ham</td>\n",
       "      <td>Even my brother is not like to speak with me. ...</td>\n",
       "    </tr>\n",
       "    <tr>\n",
       "      <th>7</th>\n",
       "      <td>ham</td>\n",
       "      <td>As per your request 'Melle Melle (Oru Minnamin...</td>\n",
       "    </tr>\n",
       "    <tr>\n",
       "      <th>8</th>\n",
       "      <td>spam</td>\n",
       "      <td>WINNER!! As a valued network customer you have...</td>\n",
       "    </tr>\n",
       "    <tr>\n",
       "      <th>9</th>\n",
       "      <td>spam</td>\n",
       "      <td>Had your mobile 11 months or more? U R entitle...</td>\n",
       "    </tr>\n",
       "  </tbody>\n",
       "</table>\n",
       "</div>"
      ],
      "text/plain": [
       "  category                                                sms\n",
       "0      ham  Go until jurong point, crazy.. Available only ...\n",
       "1      ham                      Ok lar... Joking wif u oni...\n",
       "2     spam  Free entry in 2 a wkly comp to win FA Cup fina...\n",
       "3      ham  U dun say so early hor... U c already then say...\n",
       "4      ham  Nah I don't think he goes to usf, he lives aro...\n",
       "5     spam  FreeMsg Hey there darling it's been 3 week's n...\n",
       "6      ham  Even my brother is not like to speak with me. ...\n",
       "7      ham  As per your request 'Melle Melle (Oru Minnamin...\n",
       "8     spam  WINNER!! As a valued network customer you have...\n",
       "9     spam  Had your mobile 11 months or more? U R entitle..."
      ]
     },
     "execution_count": 5,
     "metadata": {},
     "output_type": "execute_result"
    }
   ],
   "source": [
    "df = df.rename(columns={\"v1\": \"category\", \"v2\": \"sms\"})\n",
    "columns_list_to_keep = [\"category\", \"sms\"]\n",
    "df = df[columns_list_to_keep]\n",
    "df.head(10)"
   ]
  },
  {
   "cell_type": "code",
   "execution_count": 6,
   "id": "cd253e2b",
   "metadata": {},
   "outputs": [
    {
     "name": "stdout",
     "output_type": "stream",
     "text": [
      "(5572, 2)\n"
     ]
    }
   ],
   "source": [
    "print(df.shape)"
   ]
  },
  {
   "cell_type": "code",
   "execution_count": 7,
   "id": "6c48318d",
   "metadata": {},
   "outputs": [
    {
     "name": "stdout",
     "output_type": "stream",
     "text": [
      "<class 'pandas.core.frame.DataFrame'>\n",
      "RangeIndex: 5572 entries, 0 to 5571\n",
      "Data columns (total 2 columns):\n",
      " #   Column    Non-Null Count  Dtype \n",
      "---  ------    --------------  ----- \n",
      " 0   category  5572 non-null   object\n",
      " 1   sms       5572 non-null   object\n",
      "dtypes: object(2)\n",
      "memory usage: 87.2+ KB\n"
     ]
    }
   ],
   "source": [
    "df.info()"
   ]
  },
  {
   "cell_type": "code",
   "execution_count": 8,
   "id": "9b45eefb",
   "metadata": {},
   "outputs": [
    {
     "data": {
      "text/plain": [
       "category    0\n",
       "sms         0\n",
       "dtype: int64"
      ]
     },
     "execution_count": 8,
     "metadata": {},
     "output_type": "execute_result"
    }
   ],
   "source": [
    "df.isna().sum()"
   ]
  },
  {
   "cell_type": "code",
   "execution_count": 9,
   "id": "d2d790bd",
   "metadata": {},
   "outputs": [
    {
     "name": "stdout",
     "output_type": "stream",
     "text": [
      "ham     4825\n",
      "spam     747\n",
      "Name: category, dtype: int64\n",
      "------------------------------------\n"
     ]
    },
    {
     "data": {
      "image/png": "[encoded data removed]",
      "text/plain": [
       "<Figure size 504x360 with 1 Axes>"
      ]
     },
     "metadata": {
      "needs_background": "light"
     },
     "output_type": "display_data"
    }
   ],
   "source": [
    "print(df[\"category\"].value_counts())\n",
    "print(\"------------------------------------\")\n",
    "\n",
    "fig = plt.figure()\n",
    "fig.set_figheight(5)\n",
    "fig.set_figwidth(7)\n",
    "plt.title('Spam & Ham Counts')\n",
    "df[\"category\"].value_counts().plot.bar(color = 'green')\n",
    "plt.show()"
   ]
  },
  {
   "cell_type": "markdown",
   "id": "482726fd",
   "metadata": {},
   "source": [
    "### Labeling spam and ham by 1 and 0"
   ]
  },
  {
   "cell_type": "code",
   "execution_count": 10,
   "id": "85cba39b",
   "metadata": {},
   "outputs": [],
   "source": [
    "df[\"category\"] = np.where(df[\"category\"] == \"ham\", 0, 1)"
   ]
  },
  {
   "cell_type": "markdown",
   "id": "545406d0",
   "metadata": {},
   "source": [
    "### Feature Extraction"
   ]
  },
  {
   "cell_type": "code",
   "execution_count": 11,
   "id": "e0ab4a0f",
   "metadata": {},
   "outputs": [],
   "source": [
    "def calculate_bag_of_words(x_train, x_test):\n",
    "    x_train_texts = [' '.join(item) for item in x_train]\n",
    "    x_test_texts = [' '.join(item) for item in x_test]\n",
    "    vectorizer = CountVectorizer()\n",
    "    training_data = vectorizer.fit_transform(x_train_texts)\n",
    "    test_data  = vectorizer.transform(x_test_texts)\n",
    "    return training_data.toarray(), test_data.toarray()\n",
    "\n",
    "def check_if_it_has_urls(text):\n",
    "    import re\n",
    "    urls = re.findall('http[s]?://(?:[a-zA-Z]|[0-9]|[$-_@.&+]|[!*\\(\\),]|(?:%[0-9a-fA-F][0-9a-fA-F]))+', text)\n",
    "    if(len(urls) > 0):\n",
    "        return 1\n",
    "    else:\n",
    "        return 0\n",
    "    \n",
    "def get_number_of_spam_key_words(text):\n",
    "    token_words = []\n",
    "    with open('spam_words.txt', 'r') as fp:\n",
    "        c = fp.read()\n",
    "        token_words = c.split('\\n')\n",
    "    words = clean_text(text)\n",
    "    text = [' '.join(item) for item in words]\n",
    "    num = 0\n",
    "    for w in words:\n",
    "        if w in token_words:\n",
    "            num += 1\n",
    "    return num\n",
    "\n",
    "def check_if_it_has_phonenumber(text):\n",
    "    import re\n",
    "    phonenumbers = re.findall('\\+?\\d\\d\\d\\d\\d\\d\\d\\d\\d\\d\\d\\d', text)\n",
    "    if (len(phonenumbers) > 0):\n",
    "        return 1\n",
    "    else:\n",
    "        return 0\n",
    "    \n",
    "def check_if_it_has_currency_sign(text):\n",
    "    import re\n",
    "    currency = re.findall('£|\\$|\\€|\\¥', text)\n",
    "    if (len(currency) > 0):\n",
    "        return 1\n",
    "    else:\n",
    "        return 0\n",
    "\n",
    "def get_number_of_uppercase_letters(text):\n",
    "    all_words = nltk.word_tokenize(text)\n",
    "    num_of_uppercase = 0 \n",
    "    for w in all_words:\n",
    "        if w.isupper():\n",
    "            num_of_uppercase += 1\n",
    "    return num_of_uppercase\n",
    "\n",
    "\n",
    "def extract_features(actual_X_train, preprocessed_data_train, actual_X_test, preprocessed_data_test):\n",
    "    \n",
    "    bow_output_train, bow_output_test = calculate_bag_of_words(preprocessed_data_train, preprocessed_data_test)\n",
    "    print(\"shape: \", bow_output_train.shape)\n",
    "    new_train_df = pd.DataFrame(bow_output_train)\n",
    "    new_test_df = pd.DataFrame(bow_output_test)\n",
    "    #extracting lenght\n",
    "    new_train_df = pd.concat([new_train_df, actual_X_train.apply(lambda x: len(x)).rename('length')], axis=1)\n",
    "    new_test_df = pd.concat([new_test_df,actual_X_test.apply(lambda x: len(x)).rename('length')], axis=1)\n",
    "    #extracting uppercase words\n",
    "    new_train_df = pd.concat([new_train_df, actual_X_train.apply(lambda x: get_number_of_uppercase_letters(x)).rename('#upper_case')], axis=1)\n",
    "    new_test_df = pd.concat([new_test_df,actual_X_test.apply(lambda x: get_number_of_uppercase_letters(x)).rename('#upper_case')], axis=1)\n",
    "    #extracting url\n",
    "    new_train_df = pd.concat([new_train_df, actual_X_train.apply(lambda x: check_if_it_has_urls(x)).rename('url')], axis=1)\n",
    "    new_test_df = pd.concat([new_test_df,actual_X_test.apply(lambda x: check_if_it_has_urls(x)).rename('url')], axis=1)\n",
    "    #extracting phone number\n",
    "    new_train_df = pd.concat([new_train_df, actual_X_train.apply(lambda x: check_if_it_has_phonenumber(x)).rename('phone_number')], axis=1)\n",
    "    new_test_df = pd.concat([new_test_df,actual_X_test.apply(lambda x: check_if_it_has_phonenumber(x)).rename('phone_number')], axis=1)\n",
    "    #extracting currency sign\n",
    "    new_train_df = pd.concat([new_train_df, actual_X_train.apply(lambda x: check_if_it_has_currency_sign(x)).rename('currency_sign')], axis=1)\n",
    "    new_test_df = pd.concat([new_test_df,actual_X_test.apply(lambda x: check_if_it_has_currency_sign(x)).rename('currency_sign')], axis=1)\n",
    "    #extracting keywords\n",
    "    new_train_df = pd.concat([new_train_df, actual_X_train.apply(lambda x: get_number_of_spam_key_words(x)).rename('#key_words')], axis=1)\n",
    "    new_test_df = pd.concat([new_test_df,actual_X_test.apply(lambda x: get_number_of_spam_key_words(x)).rename('#key_words')], axis=1)\n",
    "\n",
    "    return new_train_df, new_test_df"
   ]
  },
  {
   "cell_type": "markdown",
   "id": "71845262",
   "metadata": {},
   "source": [
    "### Cleaning Data"
   ]
  },
  {
   "cell_type": "code",
   "execution_count": 12,
   "id": "ba7aa236",
   "metadata": {},
   "outputs": [],
   "source": [
    "def get_word_tokens(raw):\n",
    "    return nltk.word_tokenize(raw)\n",
    "\n",
    "def remove_stop_words(tokens):\n",
    "    return [word for word in tokens if not word in nltk_stopwords.words(\"english\")]\n",
    "\n",
    "def normalize_words(tokens):\n",
    "    tokens = [word.lower() for word in tokens]\n",
    "    return tokens\n",
    "\n",
    "def lemmatize_words(tokens):\n",
    "    lemmatizer = WordNetLemmatizer()\n",
    "    return [lemmatizer.lemmatize(word) for word in tokens]\n",
    "\n",
    "def clean_text(text):\n",
    "    tokens = get_word_tokens(text)\n",
    "    tokens = normalize_words(tokens)\n",
    "    tokens = remove_stop_words(tokens)\n",
    "    tokens = lemmatize_words(tokens)\n",
    "    return tokens\n",
    "\n",
    "def clean_data(all_X):\n",
    "    cleaned_X = []\n",
    "    for item in all_X:\n",
    "        cleaned_item = clean_text(item)\n",
    "        cleaned_X.append(cleaned_item)\n",
    "    return cleaned_X"
   ]
  },
  {
   "cell_type": "markdown",
   "id": "c9a29770",
   "metadata": {},
   "source": [
    "### Trainig the naive bayes model"
   ]
  },
  {
   "cell_type": "code",
   "execution_count": 13,
   "id": "08a4fe79",
   "metadata": {},
   "outputs": [],
   "source": [
    "def train_the_model(x_train, x_test, y_train):\n",
    "    x_train, x_test, y_train = np.array(x_train), np.array(x_test), np.array(y_train)\n",
    "    NB = MultinomialNB()\n",
    "    y_pred = NB.fit(x_train, y_train).predict(x_test)\n",
    "    return y_pred"
   ]
  },
  {
   "cell_type": "code",
   "execution_count": 14,
   "id": "0bbb327b",
   "metadata": {},
   "outputs": [
    {
     "data": {
      "text/html": [
       "<div>\n",
       "<style scoped>\n",
       "    .dataframe tbody tr th:only-of-type {\n",
       "        vertical-align: middle;\n",
       "    }\n",
       "\n",
       "    .dataframe tbody tr th {\n",
       "        vertical-align: top;\n",
       "    }\n",
       "\n",
       "    .dataframe thead th {\n",
       "        text-align: right;\n",
       "    }\n",
       "</style>\n",
       "<table border=\"1\" class=\"dataframe\">\n",
       "  <thead>\n",
       "    <tr style=\"text-align: right;\">\n",
       "      <th></th>\n",
       "      <th>category</th>\n",
       "      <th>sms</th>\n",
       "    </tr>\n",
       "  </thead>\n",
       "  <tbody>\n",
       "    <tr>\n",
       "      <th>0</th>\n",
       "      <td>0</td>\n",
       "      <td>Go until jurong point, crazy.. Available only ...</td>\n",
       "    </tr>\n",
       "    <tr>\n",
       "      <th>1</th>\n",
       "      <td>0</td>\n",
       "      <td>Ok lar... Joking wif u oni...</td>\n",
       "    </tr>\n",
       "    <tr>\n",
       "      <th>2</th>\n",
       "      <td>1</td>\n",
       "      <td>Free entry in 2 a wkly comp to win FA Cup fina...</td>\n",
       "    </tr>\n",
       "    <tr>\n",
       "      <th>3</th>\n",
       "      <td>0</td>\n",
       "      <td>U dun say so early hor... U c already then say...</td>\n",
       "    </tr>\n",
       "    <tr>\n",
       "      <th>4</th>\n",
       "      <td>0</td>\n",
       "      <td>Nah I don't think he goes to usf, he lives aro...</td>\n",
       "    </tr>\n",
       "    <tr>\n",
       "      <th>5</th>\n",
       "      <td>1</td>\n",
       "      <td>FreeMsg Hey there darling it's been 3 week's n...</td>\n",
       "    </tr>\n",
       "    <tr>\n",
       "      <th>6</th>\n",
       "      <td>0</td>\n",
       "      <td>Even my brother is not like to speak with me. ...</td>\n",
       "    </tr>\n",
       "    <tr>\n",
       "      <th>7</th>\n",
       "      <td>0</td>\n",
       "      <td>As per your request 'Melle Melle (Oru Minnamin...</td>\n",
       "    </tr>\n",
       "    <tr>\n",
       "      <th>8</th>\n",
       "      <td>1</td>\n",
       "      <td>WINNER!! As a valued network customer you have...</td>\n",
       "    </tr>\n",
       "    <tr>\n",
       "      <th>9</th>\n",
       "      <td>1</td>\n",
       "      <td>Had your mobile 11 months or more? U R entitle...</td>\n",
       "    </tr>\n",
       "  </tbody>\n",
       "</table>\n",
       "</div>"
      ],
      "text/plain": [
       "   category                                                sms\n",
       "0         0  Go until jurong point, crazy.. Available only ...\n",
       "1         0                      Ok lar... Joking wif u oni...\n",
       "2         1  Free entry in 2 a wkly comp to win FA Cup fina...\n",
       "3         0  U dun say so early hor... U c already then say...\n",
       "4         0  Nah I don't think he goes to usf, he lives aro...\n",
       "5         1  FreeMsg Hey there darling it's been 3 week's n...\n",
       "6         0  Even my brother is not like to speak with me. ...\n",
       "7         0  As per your request 'Melle Melle (Oru Minnamin...\n",
       "8         1  WINNER!! As a valued network customer you have...\n",
       "9         1  Had your mobile 11 months or more? U R entitle..."
      ]
     },
     "execution_count": 14,
     "metadata": {},
     "output_type": "execute_result"
    }
   ],
   "source": [
    "df.head(10)"
   ]
  },
  {
   "cell_type": "code",
   "execution_count": 15,
   "id": "8bacbf7a",
   "metadata": {},
   "outputs": [],
   "source": [
    "def print_confusion_matrix(y_test, y_pred):\n",
    "    conf_mat = confusion_matrix(y_test, y_pred)\n",
    "    ax = plt.subplot()\n",
    "    sns.heatmap(conf_mat, annot = True, ax = ax, linewidths = 5, linecolor = 'y', center = 0)\n",
    "    ax.set_title('Confusion Matrix')\n",
    "    ax.set_xlabel('Predicted Labels') \n",
    "    ax.set_ylabel('True Labels')\n",
    "    ax.xaxis.set_ticklabels(['Ham','Spam'])\n",
    "    ax.yaxis.set_ticklabels(['Ham','Spam'])\n",
    "    plt.show()\n",
    "\n",
    "def evaluate(y_test, y_pred):\n",
    "    print(f\"Accuracy: {format(accuracy_score(y_test, y_pred))}\")\n",
    "    print(f\"Recall: {format(recall_score(y_test, y_pred))}\")\n",
    "    print(f\"Precision: {format(precision_score(y_test, y_pred))}\")\n",
    "    print(f\"F1 score: {format(f1_score(y_test, y_pred))}\")\n",
    "    print(\"classification report:\\n\", classification_report(y_test, y_pred))"
   ]
  },
  {
   "cell_type": "code",
   "execution_count": 16,
   "id": "d8fa8f48",
   "metadata": {},
   "outputs": [
    {
     "name": "stdout",
     "output_type": "stream",
     "text": [
      "shape:  (4457, 7290)\n",
      "-----------------------------------------\n",
      "number of train items:  4457\n",
      "number of test items:  1115\n",
      "-----------------------------------------\n",
      "train value counts:\n",
      " 0    3855\n",
      "1     602\n",
      "Name: category, dtype: int64\n",
      "----------------\n",
      "test value counts\n",
      " 0    970\n",
      "1    145\n",
      "Name: category, dtype: int64\n",
      "-----------------------------------------\n",
      "Accuracy: 0.9847533632286996\n",
      "Recall: 0.9172413793103448\n",
      "Precision: 0.9637681159420289\n",
      "F1 score: 0.939929328621908\n",
      "classification report:\n",
      "               precision    recall  f1-score   support\n",
      "\n",
      "           0       0.99      0.99      0.99       970\n",
      "           1       0.96      0.92      0.94       145\n",
      "\n",
      "    accuracy                           0.98      1115\n",
      "   macro avg       0.98      0.96      0.97      1115\n",
      "weighted avg       0.98      0.98      0.98      1115\n",
      "\n"
     ]
    },
    {
     "data": {
      "image/png": "[encoded data removed]",
      "text/plain": [
       "<Figure size 432x288 with 2 Axes>"
      ]
     },
     "metadata": {
      "needs_background": "light"
     },
     "output_type": "display_data"
    }
   ],
   "source": [
    "def classify(df):\n",
    "    x_train, x_test, y_train, y_test = train_test_split(df[\"sms\"], df[\"category\"], test_size = 0.2, random_state = 100)\n",
    "    x_train = x_train.reset_index(drop=True)\n",
    "    x_test = x_test.reset_index(drop=True)\n",
    "\n",
    "    preprocessed_data_train = clean_data(x_train)\n",
    "    preprocessed_data_test = clean_data(x_test)\n",
    "    all_features_X_train, all_features_X_test = extract_features(x_train, preprocessed_data_train, x_test, preprocessed_data_test)\n",
    "\n",
    "    min_max_scaler = preprocessing.MinMaxScaler()\n",
    "    scaled_train = min_max_scaler.fit_transform(all_features_X_train.values)\n",
    "    scaled_test = min_max_scaler.fit_transform(all_features_X_test.values)\n",
    "\n",
    "    y_pred = train_the_model(scaled_train, scaled_test, y_train)\n",
    "\n",
    "    print('-----------------------------------------')\n",
    "    print('number of train items: ', len(x_train))\n",
    "    print('number of test items: ', len(x_test))\n",
    "    print('-----------------------------------------')\n",
    "    print('train value counts:\\n', y_train.value_counts())\n",
    "    print('----------------')\n",
    "    print('test value counts\\n', y_test.value_counts())\n",
    "    print('-----------------------------------------')\n",
    "    y_pred = train_the_model(all_features_X_train, all_features_X_test, y_train)\n",
    "    evaluate(y_test, y_pred)\n",
    "    print_confusion_matrix(y_test, y_pred)\n",
    "    \n",
    "classify(df)"
   ]
  }
 ],
 "metadata": {
  "kernelspec": {
   "display_name": "Python 3 (ipykernel)",
   "language": "python",
   "name": "python3"
  },
  "language_info": {
   "codemirror_mode": {
    "name": "ipython",
    "version": 3
   },
   "file_extension": ".py",
   "mimetype": "text/x-python",
   "name": "python",
   "nbconvert_exporter": "python",
   "pygments_lexer": "ipython3",
   "version": "3.8.12"
  }
 },
 "nbformat": 4,
 "nbformat_minor": 5
}
